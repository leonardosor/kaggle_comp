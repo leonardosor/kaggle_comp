{
 "cells": [
  {
   "cell_type": "code",
   "execution_count": 43,
   "metadata": {},
   "outputs": [],
   "source": [
    "import kagglehub\n",
    "import os\n",
    "import pandas as pd\n",
    "import polars as pl\n",
    "import statsmodels.api as sm"
   ]
  },
  {
   "cell_type": "code",
   "execution_count": null,
   "metadata": {},
   "outputs": [
    {
     "data": {
      "application/vnd.jupyter.widget-view+json": {
       "model_id": "9c940096ccca4a21a6698285a43c6f90",
       "version_major": 2,
       "version_minor": 0
      },
      "text/plain": [
       "VBox(children=(HTML(value='<center> <img\\nsrc=https://www.kaggle.com/static/images/site-logo.png\\nalt=\\'Kaggle…"
      ]
     },
     "metadata": {},
     "output_type": "display_data"
    },
    {
     "name": "stdout",
     "output_type": "stream",
     "text": [
      "Kaggle credentials set.\n",
      "Warning: Looks like you're using an outdated `kagglehub` version (installed: 0.3.7), please consider upgrading to the latest version (0.3.10).\n",
      "Kaggle credentials successfully validated.\n"
     ]
    }
   ],
   "source": [
    "#uncomment to download data\n",
    "#kagglehub.login()\n",
    "#kagglehub.competition_download('store-sales-time-series-forecasting')\n"
   ]
  },
  {
   "cell_type": "code",
   "execution_count": 18,
   "metadata": {},
   "outputs": [
    {
     "data": {
      "text/plain": [
       "['holidays_events.csv',\n",
       " 'oil.csv',\n",
       " 'sample_submission.csv',\n",
       " 'stores.csv',\n",
       " 'test.csv',\n",
       " 'train.csv',\n",
       " 'transactions.csv']"
      ]
     },
     "execution_count": 18,
     "metadata": {},
     "output_type": "execute_result"
    }
   ],
   "source": [
    "os.listdir('..\\data')"
   ]
  },
  {
   "cell_type": "code",
   "execution_count": 44,
   "metadata": {},
   "outputs": [],
   "source": [
    "train_data = pl.read_csv(r'..\\data\\train.csv')\n"
   ]
  },
  {
   "cell_type": "code",
   "execution_count": 47,
   "metadata": {},
   "outputs": [
    {
     "data": {
      "text/html": [
       "<div><style>\n",
       ".dataframe > thead > tr,\n",
       ".dataframe > tbody > tr {\n",
       "  text-align: right;\n",
       "  white-space: pre-wrap;\n",
       "}\n",
       "</style>\n",
       "<small>shape: (3_000_888, 9)</small><table border=\"1\" class=\"dataframe\"><thead><tr><th>id</th><th>date</th><th>store_nbr</th><th>family</th><th>sales</th><th>onpromotion</th><th>year</th><th>month</th><th>weekday_num</th></tr><tr><td>i64</td><td>date</td><td>i64</td><td>str</td><td>f64</td><td>i64</td><td>i32</td><td>i8</td><td>i8</td></tr></thead><tbody><tr><td>0</td><td>2013-01-01</td><td>1</td><td>&quot;AUTOMOTIVE&quot;</td><td>0.0</td><td>0</td><td>2013</td><td>1</td><td>2</td></tr><tr><td>1</td><td>2013-01-01</td><td>1</td><td>&quot;BABY CARE&quot;</td><td>0.0</td><td>0</td><td>2013</td><td>1</td><td>2</td></tr><tr><td>2</td><td>2013-01-01</td><td>1</td><td>&quot;BEAUTY&quot;</td><td>0.0</td><td>0</td><td>2013</td><td>1</td><td>2</td></tr><tr><td>3</td><td>2013-01-01</td><td>1</td><td>&quot;BEVERAGES&quot;</td><td>0.0</td><td>0</td><td>2013</td><td>1</td><td>2</td></tr><tr><td>4</td><td>2013-01-01</td><td>1</td><td>&quot;BOOKS&quot;</td><td>0.0</td><td>0</td><td>2013</td><td>1</td><td>2</td></tr><tr><td>&hellip;</td><td>&hellip;</td><td>&hellip;</td><td>&hellip;</td><td>&hellip;</td><td>&hellip;</td><td>&hellip;</td><td>&hellip;</td><td>&hellip;</td></tr><tr><td>3000883</td><td>2017-08-15</td><td>9</td><td>&quot;POULTRY&quot;</td><td>438.133</td><td>0</td><td>2017</td><td>8</td><td>2</td></tr><tr><td>3000884</td><td>2017-08-15</td><td>9</td><td>&quot;PREPARED FOODS&quot;</td><td>154.553</td><td>1</td><td>2017</td><td>8</td><td>2</td></tr><tr><td>3000885</td><td>2017-08-15</td><td>9</td><td>&quot;PRODUCE&quot;</td><td>2419.729</td><td>148</td><td>2017</td><td>8</td><td>2</td></tr><tr><td>3000886</td><td>2017-08-15</td><td>9</td><td>&quot;SCHOOL AND OFFICE SUPPLIES&quot;</td><td>121.0</td><td>8</td><td>2017</td><td>8</td><td>2</td></tr><tr><td>3000887</td><td>2017-08-15</td><td>9</td><td>&quot;SEAFOOD&quot;</td><td>16.0</td><td>0</td><td>2017</td><td>8</td><td>2</td></tr></tbody></table></div>"
      ],
      "text/plain": [
       "shape: (3_000_888, 9)\n",
       "┌─────────┬────────────┬───────────┬────────────────┬───┬─────────────┬──────┬───────┬─────────────┐\n",
       "│ id      ┆ date       ┆ store_nbr ┆ family         ┆ … ┆ onpromotion ┆ year ┆ month ┆ weekday_num │\n",
       "│ ---     ┆ ---        ┆ ---       ┆ ---            ┆   ┆ ---         ┆ ---  ┆ ---   ┆ ---         │\n",
       "│ i64     ┆ date       ┆ i64       ┆ str            ┆   ┆ i64         ┆ i32  ┆ i8    ┆ i8          │\n",
       "╞═════════╪════════════╪═══════════╪════════════════╪═══╪═════════════╪══════╪═══════╪═════════════╡\n",
       "│ 0       ┆ 2013-01-01 ┆ 1         ┆ AUTOMOTIVE     ┆ … ┆ 0           ┆ 2013 ┆ 1     ┆ 2           │\n",
       "│ 1       ┆ 2013-01-01 ┆ 1         ┆ BABY CARE      ┆ … ┆ 0           ┆ 2013 ┆ 1     ┆ 2           │\n",
       "│ 2       ┆ 2013-01-01 ┆ 1         ┆ BEAUTY         ┆ … ┆ 0           ┆ 2013 ┆ 1     ┆ 2           │\n",
       "│ 3       ┆ 2013-01-01 ┆ 1         ┆ BEVERAGES      ┆ … ┆ 0           ┆ 2013 ┆ 1     ┆ 2           │\n",
       "│ 4       ┆ 2013-01-01 ┆ 1         ┆ BOOKS          ┆ … ┆ 0           ┆ 2013 ┆ 1     ┆ 2           │\n",
       "│ …       ┆ …          ┆ …         ┆ …              ┆ … ┆ …           ┆ …    ┆ …     ┆ …           │\n",
       "│ 3000883 ┆ 2017-08-15 ┆ 9         ┆ POULTRY        ┆ … ┆ 0           ┆ 2017 ┆ 8     ┆ 2           │\n",
       "│ 3000884 ┆ 2017-08-15 ┆ 9         ┆ PREPARED FOODS ┆ … ┆ 1           ┆ 2017 ┆ 8     ┆ 2           │\n",
       "│ 3000885 ┆ 2017-08-15 ┆ 9         ┆ PRODUCE        ┆ … ┆ 148         ┆ 2017 ┆ 8     ┆ 2           │\n",
       "│ 3000886 ┆ 2017-08-15 ┆ 9         ┆ SCHOOL AND     ┆ … ┆ 8           ┆ 2017 ┆ 8     ┆ 2           │\n",
       "│         ┆            ┆           ┆ OFFICE         ┆   ┆             ┆      ┆       ┆             │\n",
       "│         ┆            ┆           ┆ SUPPLIES       ┆   ┆             ┆      ┆       ┆             │\n",
       "│ 3000887 ┆ 2017-08-15 ┆ 9         ┆ SEAFOOD        ┆ … ┆ 0           ┆ 2017 ┆ 8     ┆ 2           │\n",
       "└─────────┴────────────┴───────────┴────────────────┴───┴─────────────┴──────┴───────┴─────────────┘"
      ]
     },
     "execution_count": 47,
     "metadata": {},
     "output_type": "execute_result"
    }
   ],
   "source": [
    "# Convert date column\n",
    "train_data = train_data.with_columns(\n",
    "    pl.col('date').str.strptime(pl.Date, format='%Y-%m-%d')\n",
    ")\n",
    "\n",
    "# Extract year, month, weekday\n",
    "train_data = train_data.with_columns([\n",
    "    pl.col('date').dt.year().alias('year'),\n",
    "    pl.col('date').dt.month().alias('month'),\n",
    "    pl.col('date').dt.weekday().alias('weekday_num')\n",
    "])\n",
    "\n",
    "train_data"
   ]
  },
  {
   "cell_type": "code",
   "execution_count": 69,
   "metadata": {},
   "outputs": [
    {
     "data": {
      "text/html": [
       "<div><style>\n",
       ".dataframe > thead > tr,\n",
       ".dataframe > tbody > tr {\n",
       "  text-align: right;\n",
       "  white-space: pre-wrap;\n",
       "}\n",
       "</style>\n",
       "<small>shape: (9, 10)</small><table border=\"1\" class=\"dataframe\"><thead><tr><th>statistic</th><th>id</th><th>date</th><th>store_nbr</th><th>family</th><th>sales</th><th>onpromotion</th><th>year</th><th>month</th><th>weekday_num</th></tr><tr><td>str</td><td>f64</td><td>str</td><td>f64</td><td>str</td><td>f64</td><td>f64</td><td>f64</td><td>f64</td><td>f64</td></tr></thead><tbody><tr><td>&quot;count&quot;</td><td>3.000888e6</td><td>&quot;3000888&quot;</td><td>3.000888e6</td><td>&quot;3000888&quot;</td><td>3.000888e6</td><td>3.000888e6</td><td>3.000888e6</td><td>3.000888e6</td><td>3.000888e6</td></tr><tr><td>&quot;null_count&quot;</td><td>0.0</td><td>&quot;0&quot;</td><td>0.0</td><td>&quot;0&quot;</td><td>0.0</td><td>0.0</td><td>0.0</td><td>0.0</td><td>0.0</td></tr><tr><td>&quot;mean&quot;</td><td>1500443.5</td><td>&quot;2015-04-24 08:27:04.703000&quot;</td><td>27.5</td><td>null</td><td>357.775749</td><td>2.60277</td><td>2014.837886</td><td>6.207838</td><td>3.997031</td></tr><tr><td>&quot;std&quot;</td><td>866281.891642</td><td>null</td><td>15.585787</td><td>null</td><td>1101.997721</td><td>12.218882</td><td>1.345518</td><td>3.385668</td><td>2.00074</td></tr><tr><td>&quot;min&quot;</td><td>0.0</td><td>&quot;2013-01-01&quot;</td><td>1.0</td><td>&quot;AUTOMOTIVE&quot;</td><td>0.0</td><td>0.0</td><td>2013.0</td><td>1.0</td><td>1.0</td></tr><tr><td>&quot;25%&quot;</td><td>750222.0</td><td>&quot;2014-02-27&quot;</td><td>14.0</td><td>null</td><td>0.0</td><td>0.0</td><td>2014.0</td><td>3.0</td><td>2.0</td></tr><tr><td>&quot;50%&quot;</td><td>1.500444e6</td><td>&quot;2015-04-25&quot;</td><td>28.0</td><td>null</td><td>11.0</td><td>0.0</td><td>2015.0</td><td>6.0</td><td>4.0</td></tr><tr><td>&quot;75%&quot;</td><td>2.250665e6</td><td>&quot;2016-06-19&quot;</td><td>41.0</td><td>null</td><td>195.847</td><td>0.0</td><td>2016.0</td><td>9.0</td><td>6.0</td></tr><tr><td>&quot;max&quot;</td><td>3.000887e6</td><td>&quot;2017-08-15&quot;</td><td>54.0</td><td>&quot;SEAFOOD&quot;</td><td>124717.0</td><td>741.0</td><td>2017.0</td><td>12.0</td><td>7.0</td></tr></tbody></table></div>"
      ],
      "text/plain": [
       "shape: (9, 10)\n",
       "┌───────────┬───────────┬───────────┬───────────┬───┬───────────┬───────────┬───────────┬──────────┐\n",
       "│ statistic ┆ id        ┆ date      ┆ store_nbr ┆ … ┆ onpromoti ┆ year      ┆ month     ┆ weekday_ │\n",
       "│ ---       ┆ ---       ┆ ---       ┆ ---       ┆   ┆ on        ┆ ---       ┆ ---       ┆ num      │\n",
       "│ str       ┆ f64       ┆ str       ┆ f64       ┆   ┆ ---       ┆ f64       ┆ f64       ┆ ---      │\n",
       "│           ┆           ┆           ┆           ┆   ┆ f64       ┆           ┆           ┆ f64      │\n",
       "╞═══════════╪═══════════╪═══════════╪═══════════╪═══╪═══════════╪═══════════╪═══════════╪══════════╡\n",
       "│ count     ┆ 3.000888e ┆ 3000888   ┆ 3.000888e ┆ … ┆ 3.000888e ┆ 3.000888e ┆ 3.000888e ┆ 3.000888 │\n",
       "│           ┆ 6         ┆           ┆ 6         ┆   ┆ 6         ┆ 6         ┆ 6         ┆ e6       │\n",
       "│ null_coun ┆ 0.0       ┆ 0         ┆ 0.0       ┆ … ┆ 0.0       ┆ 0.0       ┆ 0.0       ┆ 0.0      │\n",
       "│ t         ┆           ┆           ┆           ┆   ┆           ┆           ┆           ┆          │\n",
       "│ mean      ┆ 1500443.5 ┆ 2015-04-2 ┆ 27.5      ┆ … ┆ 2.60277   ┆ 2014.8378 ┆ 6.207838  ┆ 3.997031 │\n",
       "│           ┆           ┆ 4 08:27:0 ┆           ┆   ┆           ┆ 86        ┆           ┆          │\n",
       "│           ┆           ┆ 4.703000  ┆           ┆   ┆           ┆           ┆           ┆          │\n",
       "│ std       ┆ 866281.89 ┆ null      ┆ 15.585787 ┆ … ┆ 12.218882 ┆ 1.345518  ┆ 3.385668  ┆ 2.00074  │\n",
       "│           ┆ 1642      ┆           ┆           ┆   ┆           ┆           ┆           ┆          │\n",
       "│ min       ┆ 0.0       ┆ 2013-01-0 ┆ 1.0       ┆ … ┆ 0.0       ┆ 2013.0    ┆ 1.0       ┆ 1.0      │\n",
       "│           ┆           ┆ 1         ┆           ┆   ┆           ┆           ┆           ┆          │\n",
       "│ 25%       ┆ 750222.0  ┆ 2014-02-2 ┆ 14.0      ┆ … ┆ 0.0       ┆ 2014.0    ┆ 3.0       ┆ 2.0      │\n",
       "│           ┆           ┆ 7         ┆           ┆   ┆           ┆           ┆           ┆          │\n",
       "│ 50%       ┆ 1.500444e ┆ 2015-04-2 ┆ 28.0      ┆ … ┆ 0.0       ┆ 2015.0    ┆ 6.0       ┆ 4.0      │\n",
       "│           ┆ 6         ┆ 5         ┆           ┆   ┆           ┆           ┆           ┆          │\n",
       "│ 75%       ┆ 2.250665e ┆ 2016-06-1 ┆ 41.0      ┆ … ┆ 0.0       ┆ 2016.0    ┆ 9.0       ┆ 6.0      │\n",
       "│           ┆ 6         ┆ 9         ┆           ┆   ┆           ┆           ┆           ┆          │\n",
       "│ max       ┆ 3.000887e ┆ 2017-08-1 ┆ 54.0      ┆ … ┆ 741.0     ┆ 2017.0    ┆ 12.0      ┆ 7.0      │\n",
       "│           ┆ 6         ┆ 5         ┆           ┆   ┆           ┆           ┆           ┆          │\n",
       "└───────────┴───────────┴───────────┴───────────┴───┴───────────┴───────────┴───────────┴──────────┘"
      ]
     },
     "execution_count": 69,
     "metadata": {},
     "output_type": "execute_result"
    }
   ],
   "source": [
    "train_data.describe()"
   ]
  },
  {
   "cell_type": "code",
   "execution_count": 68,
   "metadata": {},
   "outputs": [
    {
     "name": "stdout",
     "output_type": "stream",
     "text": [
      "Rows: 3000888\n",
      "Columns: 9\n",
      "$ id           <i64> 0, 1, 2, 3, 4, 5, 6, 7, 8, 9\n",
      "$ date        <date> 2013-01-01, 2013-01-01, 2013-01-01, 2013-01-01, 2013-01-01, 2013-01-01, 2013-01-01, 2013-01-01, 2013-01-01, 2013-01-01\n",
      "$ store_nbr    <i64> 1, 1, 1, 1, 1, 1, 1, 1, 1, 1\n",
      "$ family       <str> 'AUTOMOTIVE', 'BABY CARE', 'BEAUTY', 'BEVERAGES', 'BOOKS', 'BREAD/BAKERY', 'CELEBRATION', 'CLEANING', 'DAIRY', 'DELI'\n",
      "$ sales        <f64> 0.0, 0.0, 0.0, 0.0, 0.0, 0.0, 0.0, 0.0, 0.0, 0.0\n",
      "$ onpromotion  <i64> 0, 0, 0, 0, 0, 0, 0, 0, 0, 0\n",
      "$ year         <i32> 2013, 2013, 2013, 2013, 2013, 2013, 2013, 2013, 2013, 2013\n",
      "$ month         <i8> 1, 1, 1, 1, 1, 1, 1, 1, 1, 1\n",
      "$ weekday_num   <i8> 2, 2, 2, 2, 2, 2, 2, 2, 2, 2\n",
      "\n"
     ]
    }
   ],
   "source": [
    "train_data.glimpse()"
   ]
  },
  {
   "cell_type": "code",
   "execution_count": 64,
   "metadata": {},
   "outputs": [
    {
     "name": "stderr",
     "output_type": "stream",
     "text": [
      "C:\\Users\\Leo\\AppData\\Local\\Temp\\ipykernel_11292\\3758019131.py:2: DeprecationWarning: The argument `columns` for `DataFrame.pivot` is deprecated. It has been renamed to `on`.\n",
      "  train_data.group_by('year', 'month')\n"
     ]
    }
   ],
   "source": [
    "summary = (\n",
    "    train_data.group_by('year', 'month')\n",
    "      .agg(pl.col('sales').sum())\n",
    "      .pivot(\n",
    "          index='year',\n",
    "          values='sales',\n",
    "          columns='month'\n",
    "      )\n",
    "      .with_columns(\n",
    "          [pl.col(f'{col}').map_elements(lambda x: f'${x:,.0f}', return_dtype=pl.Utf8) for col in range(1, 13)]\n",
    "      )\n",
    ")"
   ]
  },
  {
   "cell_type": "code",
   "execution_count": 65,
   "metadata": {},
   "outputs": [
    {
     "data": {
      "text/html": [
       "<div><style>\n",
       ".dataframe > thead > tr,\n",
       ".dataframe > tbody > tr {\n",
       "  text-align: right;\n",
       "  white-space: pre-wrap;\n",
       "}\n",
       "</style>\n",
       "<small>shape: (5, 13)</small><table border=\"1\" class=\"dataframe\"><thead><tr><th>year</th><th>7</th><th>2</th><th>3</th><th>10</th><th>6</th><th>12</th><th>11</th><th>8</th><th>9</th><th>1</th><th>5</th><th>4</th></tr><tr><td>i32</td><td>str</td><td>str</td><td>str</td><td>str</td><td>str</td><td>str</td><td>str</td><td>str</td><td>str</td><td>str</td><td>str</td><td>str</td></tr></thead><tbody><tr><td>2016</td><td>&quot;$23,462,672&quot;</td><td>&quot;$21,947,409&quot;</td><td>&quot;$23,131,781&quot;</td><td>&quot;$24,030,390&quot;</td><td>&quot;$22,209,219&quot;</td><td>&quot;$29,640,288&quot;</td><td>&quot;$24,642,640&quot;</td><td>&quot;$22,452,414&quot;</td><td>&quot;$22,417,448&quot;</td><td>&quot;$23,977,805&quot;</td><td>&quot;$24,779,432&quot;</td><td>&quot;$25,963,025&quot;</td></tr><tr><td>2013</td><td>&quot;$11,257,401&quot;</td><td>&quot;$9,658,960&quot;</td><td>&quot;$11,428,497&quot;</td><td>&quot;$11,775,620&quot;</td><td>&quot;$11,689,344&quot;</td><td>&quot;$15,803,117&quot;</td><td>&quot;$12,356,559&quot;</td><td>&quot;$11,737,789&quot;</td><td>&quot;$11,792,933&quot;</td><td>&quot;$10,327,625&quot;</td><td>&quot;$11,597,704&quot;</td><td>&quot;$10,993,465&quot;</td></tr><tr><td>2015</td><td>&quot;$22,209,619&quot;</td><td>&quot;$13,742,396&quot;</td><td>&quot;$15,598,608&quot;</td><td>&quot;$23,878,268&quot;</td><td>&quot;$21,615,360&quot;</td><td>&quot;$27,243,982&quot;</td><td>&quot;$22,804,953&quot;</td><td>&quot;$22,963,674&quot;</td><td>&quot;$23,240,882&quot;</td><td>&quot;$14,896,922&quot;</td><td>&quot;$17,730,368&quot;</td><td>&quot;$14,955,068&quot;</td></tr><tr><td>2014</td><td>&quot;$19,421,891&quot;</td><td>&quot;$12,038,353&quot;</td><td>&quot;$20,365,584&quot;</td><td>&quot;$20,396,101&quot;</td><td>&quot;$13,319,958&quot;</td><td>&quot;$24,340,454&quot;</td><td>&quot;$20,531,635&quot;</td><td>&quot;$13,885,176&quot;</td><td>&quot;$20,022,416&quot;</td><td>&quot;$18,911,641&quot;</td><td>&quot;$13,379,785&quot;</td><td>&quot;$12,861,251&quot;</td></tr><tr><td>2017</td><td>&quot;$27,011,478&quot;</td><td>&quot;$23,250,112&quot;</td><td>&quot;$26,704,018&quot;</td><td>null</td><td>&quot;$25,682,822&quot;</td><td>null</td><td>null</td><td>&quot;$12,433,323&quot;</td><td>null</td><td>&quot;$26,328,160&quot;</td><td>&quot;$26,911,847&quot;</td><td>&quot;$25,895,308&quot;</td></tr></tbody></table></div>"
      ],
      "text/plain": [
       "shape: (5, 13)\n",
       "┌──────┬────────────┬────────────┬────────────┬───┬────────────┬───────────┬───────────┬───────────┐\n",
       "│ year ┆ 7          ┆ 2          ┆ 3          ┆ … ┆ 9          ┆ 1         ┆ 5         ┆ 4         │\n",
       "│ ---  ┆ ---        ┆ ---        ┆ ---        ┆   ┆ ---        ┆ ---       ┆ ---       ┆ ---       │\n",
       "│ i32  ┆ str        ┆ str        ┆ str        ┆   ┆ str        ┆ str       ┆ str       ┆ str       │\n",
       "╞══════╪════════════╪════════════╪════════════╪═══╪════════════╪═══════════╪═══════════╪═══════════╡\n",
       "│ 2016 ┆ $23,462,67 ┆ $21,947,40 ┆ $23,131,78 ┆ … ┆ $22,417,44 ┆ $23,977,8 ┆ $24,779,4 ┆ $25,963,0 │\n",
       "│      ┆ 2          ┆ 9          ┆ 1          ┆   ┆ 8          ┆ 05        ┆ 32        ┆ 25        │\n",
       "│ 2013 ┆ $11,257,40 ┆ $9,658,960 ┆ $11,428,49 ┆ … ┆ $11,792,93 ┆ $10,327,6 ┆ $11,597,7 ┆ $10,993,4 │\n",
       "│      ┆ 1          ┆            ┆ 7          ┆   ┆ 3          ┆ 25        ┆ 04        ┆ 65        │\n",
       "│ 2015 ┆ $22,209,61 ┆ $13,742,39 ┆ $15,598,60 ┆ … ┆ $23,240,88 ┆ $14,896,9 ┆ $17,730,3 ┆ $14,955,0 │\n",
       "│      ┆ 9          ┆ 6          ┆ 8          ┆   ┆ 2          ┆ 22        ┆ 68        ┆ 68        │\n",
       "│ 2014 ┆ $19,421,89 ┆ $12,038,35 ┆ $20,365,58 ┆ … ┆ $20,022,41 ┆ $18,911,6 ┆ $13,379,7 ┆ $12,861,2 │\n",
       "│      ┆ 1          ┆ 3          ┆ 4          ┆   ┆ 6          ┆ 41        ┆ 85        ┆ 51        │\n",
       "│ 2017 ┆ $27,011,47 ┆ $23,250,11 ┆ $26,704,01 ┆ … ┆ null       ┆ $26,328,1 ┆ $26,911,8 ┆ $25,895,3 │\n",
       "│      ┆ 8          ┆ 2          ┆ 8          ┆   ┆            ┆ 60        ┆ 47        ┆ 08        │\n",
       "└──────┴────────────┴────────────┴────────────┴───┴────────────┴───────────┴───────────┴───────────┘"
      ]
     },
     "execution_count": 65,
     "metadata": {},
     "output_type": "execute_result"
    }
   ],
   "source": [
    "summary"
   ]
  },
  {
   "cell_type": "code",
   "execution_count": 72,
   "metadata": {},
   "outputs": [
    {
     "name": "stderr",
     "output_type": "stream",
     "text": [
      "C:\\Users\\Leo\\AppData\\Local\\Temp\\ipykernel_11292\\3293749318.py:24: DeprecationWarning: `DataFrame.melt` is deprecated. Use `unpivot` instead, with `index` instead of `id_vars` and `on` instead of `value_vars`\n",
      "  df.null_count()\n"
     ]
    },
    {
     "data": {
      "text/html": [
       "<div><style>\n",
       ".dataframe > thead > tr,\n",
       ".dataframe > tbody > tr {\n",
       "  text-align: right;\n",
       "  white-space: pre-wrap;\n",
       "}\n",
       "</style>\n",
       "<small>shape: (9, 4)</small><table border=\"1\" class=\"dataframe\"><thead><tr><th>column_name</th><th>total_rows</th><th>missing_count</th><th>missing_percentage</th></tr><tr><td>str</td><td>i32</td><td>u32</td><td>f64</td></tr></thead><tbody><tr><td>&quot;id&quot;</td><td>3000888</td><td>0</td><td>0.0</td></tr><tr><td>&quot;date&quot;</td><td>3000888</td><td>0</td><td>0.0</td></tr><tr><td>&quot;store_nbr&quot;</td><td>3000888</td><td>0</td><td>0.0</td></tr><tr><td>&quot;family&quot;</td><td>3000888</td><td>0</td><td>0.0</td></tr><tr><td>&quot;sales&quot;</td><td>3000888</td><td>0</td><td>0.0</td></tr><tr><td>&quot;onpromotion&quot;</td><td>3000888</td><td>0</td><td>0.0</td></tr><tr><td>&quot;year&quot;</td><td>3000888</td><td>0</td><td>0.0</td></tr><tr><td>&quot;month&quot;</td><td>3000888</td><td>0</td><td>0.0</td></tr><tr><td>&quot;weekday_num&quot;</td><td>3000888</td><td>0</td><td>0.0</td></tr></tbody></table></div>"
      ],
      "text/plain": [
       "shape: (9, 4)\n",
       "┌─────────────┬────────────┬───────────────┬────────────────────┐\n",
       "│ column_name ┆ total_rows ┆ missing_count ┆ missing_percentage │\n",
       "│ ---         ┆ ---        ┆ ---           ┆ ---                │\n",
       "│ str         ┆ i32        ┆ u32           ┆ f64                │\n",
       "╞═════════════╪════════════╪═══════════════╪════════════════════╡\n",
       "│ id          ┆ 3000888    ┆ 0             ┆ 0.0                │\n",
       "│ date        ┆ 3000888    ┆ 0             ┆ 0.0                │\n",
       "│ store_nbr   ┆ 3000888    ┆ 0             ┆ 0.0                │\n",
       "│ family      ┆ 3000888    ┆ 0             ┆ 0.0                │\n",
       "│ sales       ┆ 3000888    ┆ 0             ┆ 0.0                │\n",
       "│ onpromotion ┆ 3000888    ┆ 0             ┆ 0.0                │\n",
       "│ year        ┆ 3000888    ┆ 0             ┆ 0.0                │\n",
       "│ month       ┆ 3000888    ┆ 0             ┆ 0.0                │\n",
       "│ weekday_num ┆ 3000888    ┆ 0             ┆ 0.0                │\n",
       "└─────────────┴────────────┴───────────────┴────────────────────┘"
      ]
     },
     "execution_count": 72,
     "metadata": {},
     "output_type": "execute_result"
    }
   ],
   "source": [
    "\n",
    "def calculate_missing_percentage(df):\n",
    "    \"\"\"\n",
    "    Calculate the percentage of missing values for each column in a Polars DataFrame.\n",
    "    \n",
    "    Parameters:\n",
    "    -----------\n",
    "    df : pl.DataFrame\n",
    "        Input Polars DataFrame\n",
    "    \n",
    "    Returns:\n",
    "    --------\n",
    "    pl.DataFrame\n",
    "        DataFrame with columns: \n",
    "        - 'column_name': name of the column\n",
    "        - 'total_rows': total number of rows\n",
    "        - 'missing_count': number of missing values\n",
    "        - 'missing_percentage': percentage of missing values\n",
    "    \"\"\"\n",
    "    # Get total number of rows\n",
    "    total_rows = df.height\n",
    "    \n",
    "    # Calculate missing values\n",
    "    missing_stats = (\n",
    "        df.null_count()\n",
    "        .melt(variable_name=\"column_name\", value_name=\"missing_count\")\n",
    "        .with_columns([\n",
    "            pl.lit(total_rows).alias(\"total_rows\"),\n",
    "            ((pl.col(\"missing_count\") / total_rows * 100).round(2)).alias(\"missing_percentage\")\n",
    "        ])\n",
    "        .select([\n",
    "            \"column_name\", \n",
    "            \"total_rows\", \n",
    "            \"missing_count\", \n",
    "            \"missing_percentage\"\n",
    "        ])\n",
    "    )\n",
    "    \n",
    "    return missing_stats\n",
    "\n",
    "calculate_missing_percentage(train_data)"
   ]
  },
  {
   "cell_type": "code",
   "execution_count": 74,
   "metadata": {},
   "outputs": [
    {
     "data": {
      "text/html": [
       "<div><style>\n",
       ".dataframe > thead > tr,\n",
       ".dataframe > tbody > tr {\n",
       "  text-align: right;\n",
       "  white-space: pre-wrap;\n",
       "}\n",
       "</style>\n",
       "<small>shape: (0, 9)</small><table border=\"1\" class=\"dataframe\"><thead><tr><th>id</th><th>date</th><th>store_nbr</th><th>family</th><th>sales</th><th>onpromotion</th><th>year</th><th>month</th><th>weekday_num</th></tr><tr><td>i64</td><td>date</td><td>i64</td><td>str</td><td>f64</td><td>i64</td><td>i32</td><td>i8</td><td>i8</td></tr></thead><tbody></tbody></table></div>"
      ],
      "text/plain": [
       "shape: (0, 9)\n",
       "┌─────┬──────┬───────────┬────────┬───┬─────────────┬──────┬───────┬─────────────┐\n",
       "│ id  ┆ date ┆ store_nbr ┆ family ┆ … ┆ onpromotion ┆ year ┆ month ┆ weekday_num │\n",
       "│ --- ┆ ---  ┆ ---       ┆ ---    ┆   ┆ ---         ┆ ---  ┆ ---   ┆ ---         │\n",
       "│ i64 ┆ date ┆ i64       ┆ str    ┆   ┆ i64         ┆ i32  ┆ i8    ┆ i8          │\n",
       "╞═════╪══════╪═══════════╪════════╪═══╪═════════════╪══════╪═══════╪═════════════╡\n",
       "└─────┴──────┴───────────┴────────┴───┴─────────────┴──────┴───────┴─────────────┘"
      ]
     },
     "execution_count": 74,
     "metadata": {},
     "output_type": "execute_result"
    }
   ],
   "source": [
    "null_rows = train_data.filter(pl.col('sales').is_null())\n",
    "null_rows"
   ]
  },
  {
   "cell_type": "code",
   "execution_count": 75,
   "metadata": {},
   "outputs": [],
   "source": [
    "transactions = pl.read_csv(r'..\\data\\transactions.csv')"
   ]
  },
  {
   "cell_type": "code",
   "execution_count": 76,
   "metadata": {},
   "outputs": [
    {
     "data": {
      "text/html": [
       "<div><style>\n",
       ".dataframe > thead > tr,\n",
       ".dataframe > tbody > tr {\n",
       "  text-align: right;\n",
       "  white-space: pre-wrap;\n",
       "}\n",
       "</style>\n",
       "<small>shape: (83_488, 3)</small><table border=\"1\" class=\"dataframe\"><thead><tr><th>date</th><th>store_nbr</th><th>transactions</th></tr><tr><td>str</td><td>i64</td><td>i64</td></tr></thead><tbody><tr><td>&quot;2013-01-01&quot;</td><td>25</td><td>770</td></tr><tr><td>&quot;2013-01-02&quot;</td><td>1</td><td>2111</td></tr><tr><td>&quot;2013-01-02&quot;</td><td>2</td><td>2358</td></tr><tr><td>&quot;2013-01-02&quot;</td><td>3</td><td>3487</td></tr><tr><td>&quot;2013-01-02&quot;</td><td>4</td><td>1922</td></tr><tr><td>&hellip;</td><td>&hellip;</td><td>&hellip;</td></tr><tr><td>&quot;2017-08-15&quot;</td><td>50</td><td>2804</td></tr><tr><td>&quot;2017-08-15&quot;</td><td>51</td><td>1573</td></tr><tr><td>&quot;2017-08-15&quot;</td><td>52</td><td>2255</td></tr><tr><td>&quot;2017-08-15&quot;</td><td>53</td><td>932</td></tr><tr><td>&quot;2017-08-15&quot;</td><td>54</td><td>802</td></tr></tbody></table></div>"
      ],
      "text/plain": [
       "shape: (83_488, 3)\n",
       "┌────────────┬───────────┬──────────────┐\n",
       "│ date       ┆ store_nbr ┆ transactions │\n",
       "│ ---        ┆ ---       ┆ ---          │\n",
       "│ str        ┆ i64       ┆ i64          │\n",
       "╞════════════╪═══════════╪══════════════╡\n",
       "│ 2013-01-01 ┆ 25        ┆ 770          │\n",
       "│ 2013-01-02 ┆ 1         ┆ 2111         │\n",
       "│ 2013-01-02 ┆ 2         ┆ 2358         │\n",
       "│ 2013-01-02 ┆ 3         ┆ 3487         │\n",
       "│ 2013-01-02 ┆ 4         ┆ 1922         │\n",
       "│ …          ┆ …         ┆ …            │\n",
       "│ 2017-08-15 ┆ 50        ┆ 2804         │\n",
       "│ 2017-08-15 ┆ 51        ┆ 1573         │\n",
       "│ 2017-08-15 ┆ 52        ┆ 2255         │\n",
       "│ 2017-08-15 ┆ 53        ┆ 932          │\n",
       "│ 2017-08-15 ┆ 54        ┆ 802          │\n",
       "└────────────┴───────────┴──────────────┘"
      ]
     },
     "execution_count": 76,
     "metadata": {},
     "output_type": "execute_result"
    }
   ],
   "source": [
    "transactions"
   ]
  }
 ],
 "metadata": {
  "kernelspec": {
   "display_name": "Python 3",
   "language": "python",
   "name": "python3"
  },
  "language_info": {
   "codemirror_mode": {
    "name": "ipython",
    "version": 3
   },
   "file_extension": ".py",
   "mimetype": "text/x-python",
   "name": "python",
   "nbconvert_exporter": "python",
   "pygments_lexer": "ipython3",
   "version": "3.10.16"
  }
 },
 "nbformat": 4,
 "nbformat_minor": 2
}
