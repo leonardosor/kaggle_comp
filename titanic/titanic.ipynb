{
 "cells": [
  {
   "cell_type": "code",
   "execution_count": 1,
   "metadata": {},
   "outputs": [],
   "source": [
    "import tensorflow as tf\n",
    "import autokeras as ak\n",
    "import os\n",
    "import pandas as pd"
   ]
  },
  {
   "cell_type": "code",
   "execution_count": 2,
   "metadata": {},
   "outputs": [
    {
     "name": "stdout",
     "output_type": "stream",
     "text": [
      "Num GPUs: [PhysicalDevice(name='/physical_device:GPU:0', device_type='GPU')]\n"
     ]
    }
   ],
   "source": [
    "physical_devices = tf.config.list_physical_devices('GPU')\n",
    "print(\"Num GPUs:\", physical_devices)\n"
   ]
  },
  {
   "cell_type": "code",
   "execution_count": 3,
   "metadata": {},
   "outputs": [],
   "source": [
    "data = pd.read_csv(r'data\\train.csv')\n",
    "test = pd.read_csv(r'data\\eval.csv')\n",
    "\n",
    "X_test = test.drop(columns=['survived'])  # Remove the target column\n",
    "y_test = test['survived']"
   ]
  },
  {
   "cell_type": "code",
   "execution_count": 41,
   "metadata": {},
   "outputs": [
    {
     "name": "stdout",
     "output_type": "stream",
     "text": [
      "Trial 5 Complete [00h 00m 04s]\n",
      "val_accuracy: 0.843478262424469\n",
      "\n",
      "Best val_accuracy So Far: 0.886956512928009\n",
      "Total elapsed time: 00h 00m 51s\n",
      "INFO:tensorflow:Oracle triggered exit\n",
      "Epoch 1/5\n",
      "20/20 [==============================] - 1s 4ms/step - loss: 0.7022 - accuracy: 0.6156\n",
      "Epoch 2/5\n",
      "20/20 [==============================] - 0s 5ms/step - loss: 0.5979 - accuracy: 0.7018\n",
      "Epoch 3/5\n",
      "20/20 [==============================] - 0s 5ms/step - loss: 0.5375 - accuracy: 0.7959\n",
      "Epoch 4/5\n",
      "20/20 [==============================] - 0s 5ms/step - loss: 0.4980 - accuracy: 0.8086\n",
      "Epoch 5/5\n",
      "20/20 [==============================] - 0s 4ms/step - loss: 0.4718 - accuracy: 0.8182\n",
      "INFO:tensorflow:Assets written to: .\\structured_data_classifier\\best_model\\assets\n"
     ]
    },
    {
     "data": {
      "text/plain": [
       "<tensorflow.python.keras.callbacks.History at 0x1f19c155828>"
      ]
     },
     "execution_count": 41,
     "metadata": {},
     "output_type": "execute_result"
    }
   ],
   "source": [
    "X = data.drop(columns=['survived'])  # Remove the target column\n",
    "y = data['survived']  # Extract the target column\n",
    "\n",
    "# Initialize the AutoKeras Structured Data Classifier with column details\n",
    "clf = ak.StructuredDataClassifier(\n",
    "    column_names=[                        \n",
    "        'sex',\n",
    "        'age',\n",
    "        'n_siblings_spouses',\n",
    "        'parch',\n",
    "        'fare',\n",
    "        'class',\n",
    "        'deck',\n",
    "        'embark_town',\n",
    "        'alone'],\n",
    "    column_types={\n",
    "        'sex': 'categorical',\n",
    "        'fare': 'numerical'\n",
    "    },\n",
    "    max_trials=15\n",
    ")\n",
    "\n",
    "# Fit the model using extracted X and y\n",
    "clf.fit(X, y)"
   ]
  },
  {
   "cell_type": "code",
   "execution_count": 32,
   "metadata": {},
   "outputs": [
    {
     "name": "stdout",
     "output_type": "stream",
     "text": [
      "9/9 [==============================] - 0s 3ms/step\n"
     ]
    }
   ],
   "source": [
    "predicted_y = clf.predict(X_test)\n",
    "test_loss, test_acc = clf.evaluate(X_test,\n",
    "                                    y_test,\n",
    "                                    verbose=0) \n",
    "print(test_loss, test_acc)\n",
    "\n",
    "#predicted_y"
   ]
  }
 ],
 "metadata": {
  "kernelspec": {
   "display_name": "tensor4",
   "language": "python",
   "name": "python3"
  },
  "language_info": {
   "codemirror_mode": {
    "name": "ipython",
    "version": 3
   },
   "file_extension": ".py",
   "mimetype": "text/x-python",
   "name": "python",
   "nbconvert_exporter": "python",
   "pygments_lexer": "ipython3",
   "version": "3.6.15"
  }
 },
 "nbformat": 4,
 "nbformat_minor": 2
}
